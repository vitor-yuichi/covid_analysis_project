{
  "nbformat": 4,
  "nbformat_minor": 0,
  "metadata": {
    "colab": {
      "name": "testes.ipynb",
      "provenance": [],
      "collapsed_sections": [],
      "authorship_tag": "ABX9TyOXInGXIMMjgq9s0o7XnpK6",
      "include_colab_link": true
    },
    "kernelspec": {
      "name": "python3",
      "display_name": "Python 3"
    },
    "language_info": {
      "name": "python"
    }
  },
  "cells": [
    {
      "cell_type": "markdown",
      "metadata": {
        "id": "view-in-github",
        "colab_type": "text"
      },
      "source": [
        "<a href=\"https://colab.research.google.com/github/vitor-yuichi/covid_analysis_project/blob/main/testes.ipynb\" target=\"_parent\"><img src=\"https://colab.research.google.com/assets/colab-badge.svg\" alt=\"Open In Colab\"/></a>"
      ]
    },
    {
      "cell_type": "markdown",
      "source": [
        "Questão 1 \n",
        "\n",
        "---\n",
        "\n"
      ],
      "metadata": {
        "id": "X433uOS_AeqB"
      }
    },
    {
      "cell_type": "code",
      "execution_count": 2,
      "metadata": {
        "id": "vKK7U-W8_5nI"
      },
      "outputs": [],
      "source": [
        "indice=13\n",
        "soma=0\n",
        "k=0"
      ]
    },
    {
      "cell_type": "code",
      "source": [
        "while k<indice:\n",
        "  k+=1\n",
        "  soma=soma+k\n",
        "print(soma)"
      ],
      "metadata": {
        "colab": {
          "base_uri": "https://localhost:8080/"
        },
        "id": "BB7zkRgW_8_e",
        "outputId": "65bc2119-7efc-4c92-a327-7f61944a4ba7"
      },
      "execution_count": 3,
      "outputs": [
        {
          "output_type": "stream",
          "name": "stdout",
          "text": [
            "91\n"
          ]
        }
      ]
    },
    {
      "cell_type": "markdown",
      "source": [
        "Questão 2 "
      ],
      "metadata": {
        "id": "vfLunlY5AgpL"
      }
    },
    {
      "cell_type": "code",
      "source": [
        "termos = 100\n",
        "lista_termos=100*[0]\n",
        "# first two terms\n",
        "n1, n2 = 0, 1\n",
        "count = 0\n",
        "while count < termos:\n",
        "  lista_termos[count]=n1\n",
        "  nth = n1 + n2\n",
        "  n1 = n2\n",
        "  n2 = nth\n",
        "  count += 1\n",
        "numero_desejado=input(\"Informa o numero \\t\")\n",
        "if int(numero_desejado) in lista_termos:\n",
        "  print(\"O número é pertence ao conjunto de Fibonacci \")\n",
        "else:\n",
        "  print(\"Não pertence ao conjunto\")"
      ],
      "metadata": {
        "colab": {
          "base_uri": "https://localhost:8080/"
        },
        "id": "t_biJh7ZAhZK",
        "outputId": "0b0f39ab-dd03-4c5c-a7ec-0a912490abc2"
      },
      "execution_count": 30,
      "outputs": [
        {
          "output_type": "stream",
          "name": "stdout",
          "text": [
            "Informa o numero \t34\n",
            "O número é pertence ao conjunto de Fibonacci \n"
          ]
        }
      ]
    },
    {
      "cell_type": "markdown",
      "source": [
        "a) 1, 3, 5, 7, __9\n",
        "\n",
        "b) 2, 4, 8, 16, 32, 64, ___128\n",
        "\n",
        "c) 0, 1, 4, 9, 16, 25, 36, ____49\n",
        "\n",
        "d) 4, 16, 36, 64, ____100\n",
        "\n",
        "e) 1, 1, 2, 3, 5, 8, ____13\n",
        "\n",
        "f) 2,10, 12, 16, 17, 18, 19, ____200\n"
      ],
      "metadata": {
        "id": "RubPmX7SFhQ-"
      }
    },
    {
      "cell_type": "markdown",
      "source": [
        " 4- Dois veículos (um carro e um caminhão) saem respectivamente de cidades opostas pela mesma rodovia. O carro de Ribeirão Preto em direção a Franca, a uma velocidade constante de 110 km/h e o caminhão de Franca em direção a Ribeirão Preto a uma velocidade constante de 80 km/h. Quando eles se cruzarem na rodovia, qual estará mais próximo a cidade de Ribeirão Preto?\n",
        "\n",
        " (a)O carro sentido a Ribeirão Preto para Fraca\n",
        " Seja c a função movimento do carro temos:\n",
        " c=110t\n",
        " função movimento do caminhao k\n",
        " k=-80t+100\n",
        " Intersecção temos c=k:\n",
        "t=100/190\n",
        "\n",
        "b) Considerar 2 pedágios como obstáculo e que o caminhão leva 5 minutos a mais para passar em cada um deles e o carro possui tag de pedágio (Sem Parar)\n",
        "\n",
        "c) Explique como chegou no resultado.\n",
        "\n"
      ],
      "metadata": {
        "id": "Uvk_65sLHOs6"
      }
    },
    {
      "cell_type": "code",
      "source": [
        "#4(A)\n",
        "encontro=100/190\n",
        "# deslocamento do carro, deslocamento do caminhao\n",
        "print(110*encontro, 100-abs(-80*encontro))\n",
        "#os dois encontram-se na mesma distancia de Ribeirão preto"
      ],
      "metadata": {
        "colab": {
          "base_uri": "https://localhost:8080/"
        },
        "id": "6ZeAFTxAH1Yi",
        "outputId": "33c27508-9d52-461f-ff6b-a8c7028f31ab"
      },
      "execution_count": 37,
      "outputs": [
        {
          "output_type": "stream",
          "name": "stdout",
          "text": [
            "57.89473684210526 57.89473684210527\n"
          ]
        }
      ]
    },
    {
      "cell_type": "code",
      "source": [
        "#4(b)\n",
        "# o caminhão demora 10 minutos a mais para completar o trajeto temos:\n",
        "tempo=100/80\n",
        "tempo+=10/60\n",
        "# temos uma nova velocidade media atrelada \n",
        "vm=100/tempo\n",
        "#Cruzando com a função velocidade do carro \n",
        "tempo1=100/(110+vm)\n",
        "print(110*tempo1, 100-abs(-vm*tempo1))\n",
        "#ambos estão a mesma distância de Ribeirão\n"
      ],
      "metadata": {
        "colab": {
          "base_uri": "https://localhost:8080/"
        },
        "id": "fjkI9JKpLq4H",
        "outputId": "d451a2a7-99ab-4b71-f9da-898d25c562af"
      },
      "execution_count": 40,
      "outputs": [
        {
          "output_type": "stream",
          "name": "stdout",
          "text": [
            "60.91205211726385 60.91205211726385\n"
          ]
        }
      ]
    },
    {
      "cell_type": "code",
      "source": [
        "#4(c)\n",
        "#Foi recalculado uma velocidade média para o caminhão uma vez que deve-se considerar as paradas "
      ],
      "metadata": {
        "id": "jvQ9EbfvNQlD"
      },
      "execution_count": null,
      "outputs": []
    },
    {
      "cell_type": "code",
      "source": [
        "ssoura\n"
      ],
      "metadata": {
        "id": "_QSVvfWoNoR0"
      },
      "execution_count": null,
      "outputs": []
    },
    {
      "cell_type": "code",
      "source": [
        "#5\n",
        "string=input(\"diga a string \\t\")\n",
        "print(string[::-1])"
      ],
      "metadata": {
        "colab": {
          "base_uri": "https://localhost:8080/"
        },
        "id": "wXgcKj-ZNXou",
        "outputId": "27ffba58-24e1-4d50-c7a4-cb816b2e7721"
      },
      "execution_count": 42,
      "outputs": [
        {
          "output_type": "stream",
          "name": "stdout",
          "text": [
            "diga a string \tboa\n",
            "aob\n"
          ]
        }
      ]
    }
  ]
}